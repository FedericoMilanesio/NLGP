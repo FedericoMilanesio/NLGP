{
  "nbformat": 4,
  "nbformat_minor": 0,
  "metadata": {
    "colab": {
      "provenance": [],
      "authorship_tag": "ABX9TyPeJ1fWZm3lcmZuaZixlBCL"
    },
    "kernelspec": {
      "name": "python3",
      "display_name": "Python 3"
    },
    "language_info": {
      "name": "python"
    }
  },
  "cells": [
    {
      "cell_type": "code",
      "execution_count": 1,
      "metadata": {
        "id": "WYXgR0J-ZMWq"
      },
      "outputs": [],
      "source": [
        "import numpy as np\n",
        "import math\n",
        "\n",
        "def create_gaussian_matrix(n, eps = 1.,  gain = 1., dim = 1, n_samples = 20, non_linearity = None):\n",
        "    \"\"\"\n",
        "    Sample code from Ingrosso & Goldt, \"Data-driven emergence of convolutional structure in neural networks\"\n",
        "\n",
        "    This function generates a matrix where each row is a sample drawn from a Gaussian (normal) distribution,\n",
        "    and applies optional non-linearities. It is useful for tasks involving randomness,\n",
        "    data simulation, or initializing parameters for machine learning models.\n",
        "\n",
        "    Parameters:\n",
        "        n (int):\n",
        "            The number of features (columns) in the output matrix.\n",
        "\n",
        "        eps (float, optional, default=1.0):\n",
        "            A scaling factor for the Gaussian distribution's standard deviation,\n",
        "            it modulates the correlations length in the samples\n",
        "            The default standard deviation of 1.0 is multiplied by this value.\n",
        "\n",
        "        gain (float, optional, default=1.0):\n",
        "            A multiplicative factor applied to the entire output matrix,\n",
        "            allowing for additional scaling after Gaussian generation.\n",
        "\n",
        "        dim (int, optional, default=1):\n",
        "            The dimensionality of the Gaussian samples. Can be 1 or 2.\n",
        "\n",
        "        n_samples (int, optional, default=20):\n",
        "            The number of samples (rows) to generate in the output matrix.\n",
        "\n",
        "        non_linearity (string, optional, default=None):\n",
        "            The name of the function that applies a non-linear transformation\n",
        "            to the generated Gaussian samples. For now only erf is implemented.\n",
        "            If `None`, no transformation is applied.\n",
        "\n",
        "    Returns:\n",
        "        numpy.ndarray:\n",
        "            A 2D array of shape `(n_samples, n)` containing the generated and\n",
        "            (optionally) transformed Gaussian data.\n",
        "\n",
        "    Examples:\n",
        "        >>> create_gaussian_matrix(n=5, eps=0.5, gain=2.0, n_samples=10)\n",
        "        Generates a 10x5 matrix of Gaussian samples with standard deviation\n",
        "        scaled by 0.5 and the result multiplied by 2.\n",
        "\n",
        "        >>> create_gaussian_matrix(n=3, non_linearity=\"erf\")\n",
        "        Generates a 20x3 matrix of Gaussian samples, then applies the erf non-linearity.\n",
        "    \"\"\"\n",
        "\n",
        "    cov = [[math.exp(-(abs(i - j)/(eps))**2) for i in range(n)] for j in range(n)]\n",
        "\n",
        "    #1-dimensional\n",
        "    if dim == 1:\n",
        "        mean = [0] * n\n",
        "        sample = np.random.multivariate_normal(mean, cov, size = n_samples, check_valid='warn')\n",
        "\n",
        "    #2-dimensional\n",
        "    elif dim == 2:\n",
        "        mean = [0] * n**2\n",
        "        cov = np.kron(cov, cov)\n",
        "        sample = np.random.multivariate_normal(mean, cov, size = n_samples, check_valid='warn').reshape((n,n,n_samples))\n",
        "\n",
        "    else:\n",
        "        raise ValueError(f'Unexpected value of dimensions encountered: {dim}')\n",
        "\n",
        "\n",
        "    if non_linearity is None:\n",
        "        return sample\n",
        "\n",
        "    elif non_linearity.lower() == \"erf\":\n",
        "        Z = math.sqrt(2/math.pi * math.asin(gain**2/(1 + gain**2)))\n",
        "        erf = np.vectorize(math.erf)\n",
        "        sample = erf(gain*sample/math.sqrt(2)) / Z\n",
        "        return sample\n",
        "\n",
        "    else:\n",
        "        raise ValueError(f'Unexpected non-linearity encountered \"{non_linearity}\"')"
      ]
    },
    {
      "cell_type": "code",
      "source": [
        "X = create_gaussian_matrix(20, dim = 2, eps = 1.2, gain = 1)"
      ],
      "metadata": {
        "id": "O-KwBlbdZoih"
      },
      "execution_count": 2,
      "outputs": []
    },
    {
      "cell_type": "code",
      "source": [
        "import matplotlib.pyplot as plt\n",
        "\n",
        "plt.imshow(X[0])\n",
        "plt.show()"
      ],
      "metadata": {
        "colab": {
          "base_uri": "https://localhost:8080/",
          "height": 430
        },
        "id": "TBZ6JvltZsvM",
        "outputId": "848d4794-9d52-43f0-ad2b-277ff168bc64"
      },
      "execution_count": 3,
      "outputs": [
        {
          "output_type": "display_data",
          "data": {
            "text/plain": [
              "<Figure size 640x480 with 1 Axes>"
            ],
            "image/png": "[encoded data removed]"
          },
          "metadata": {}
        }
      ]
    },
    {
      "cell_type": "code",
      "source": [],
      "metadata": {
        "id": "vSpROKgZZyfS"
      },
      "execution_count": 3,
      "outputs": []
    }
  ]
}